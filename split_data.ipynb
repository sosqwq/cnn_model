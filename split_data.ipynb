{
 "cells": [
  {
   "cell_type": "code",
   "execution_count": 11,
   "metadata": {},
   "outputs": [],
   "source": [
    "#split_data\n",
    "import os\n",
    "import shutil\n",
    "from sklearn.model_selection import train_test_split\n",
    "\n",
    "def split_data(root_dir, train_dir, val_dir, val_size=0.2):\n",
    "    if not os.path.exists(train_dir):\n",
    "        os.makedirs(train_dir)\n",
    "    if not os.path.exists(val_dir):\n",
    "        os.makedirs(val_dir)\n",
    "\n",
    "    for sub_dir in os.listdir(root_dir):\n",
    "        full_sub_dir = os.path.join(root_dir, sub_dir)\n",
    "        if os.path.isdir(full_sub_dir):\n",
    "            images = os.listdir(full_sub_dir)\n",
    "            train_images, val_images = train_test_split(images, test_size=val_size, random_state=42)\n",
    "            \n",
    "            train_sub_dir = os.path.join(train_dir, sub_dir)\n",
    "            val_sub_dir = os.path.join(val_dir, sub_dir)\n",
    "            \n",
    "            if not os.path.exists(train_sub_dir):\n",
    "                os.makedirs(train_sub_dir)\n",
    "            if not os.path.exists(val_sub_dir):\n",
    "                os.makedirs(val_sub_dir)\n",
    "            \n",
    "            for img in train_images:\n",
    "                shutil.copy(os.path.join(full_sub_dir, img), os.path.join(train_sub_dir, img))\n",
    "            for img in val_images:\n",
    "                shutil.copy(os.path.join(full_sub_dir, img), os.path.join(val_sub_dir, img))\n",
    "\n",
    "root_dir = './data1' \n",
    "train_dir = './train'\n",
    "val_dir = './val'\n",
    "\n",
    "split_data(root_dir, train_dir, val_dir)"
   ]
  }
 ],
 "metadata": {
  "kernelspec": {
   "display_name": "base",
   "language": "python",
   "name": "python3"
  },
  "language_info": {
   "codemirror_mode": {
    "name": "ipython",
    "version": 3
   },
   "file_extension": ".py",
   "mimetype": "text/x-python",
   "name": "python",
   "nbconvert_exporter": "python",
   "pygments_lexer": "ipython3",
   "version": "3.11.9"
  }
 },
 "nbformat": 4,
 "nbformat_minor": 2
}
